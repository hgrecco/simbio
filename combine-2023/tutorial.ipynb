{
 "cells": [
  {
   "cell_type": "markdown",
   "metadata": {},
   "source": [
    "# simbio @ COMBINE 2023\n",
    "\n",
    "Run the following cell to install `simbio` and `numba`,\n",
    "which we will use in this tutorial."
   ]
  },
  {
   "cell_type": "code",
   "execution_count": null,
   "metadata": {},
   "outputs": [],
   "source": [
    "!pip install simbio[io] numba"
   ]
  },
  {
   "cell_type": "markdown",
   "metadata": {},
   "source": [
    "It should also install `poincare`, `symbolite`, and other dependencies."
   ]
  },
  {
   "cell_type": "code",
   "execution_count": null,
   "metadata": {},
   "outputs": [],
   "source": [
    "import matplotlib.pyplot as plt\n",
    "\n",
    "plt.rc(\"figure\", figsize=(6, 2))  # smaller default figure height§"
   ]
  },
  {
   "cell_type": "markdown",
   "metadata": {},
   "source": [
    "## poincaré\n",
    "\n",
    "Poincaré lets us define dynamical systems.\n",
    "Let's start with a simple exponential decay."
   ]
  },
  {
   "cell_type": "markdown",
   "metadata": {},
   "source": [
    "### Example 1: first order system\n",
    "\n",
    "Exponential decay: $\\frac{dx}{dt} = -x$"
   ]
  },
  {
   "cell_type": "markdown",
   "metadata": {},
   "source": [
    "#### Defining a model\n",
    "\n",
    "- Models are defined as subclasses of `System`\n",
    "- Variables are annotated with `Variable` and assigned an initial value with `initial`."
   ]
  },
  {
   "cell_type": "code",
   "execution_count": null,
   "metadata": {},
   "outputs": [],
   "source": [
    "from poincare import Variable, System, initial\n",
    "\n",
    "\n",
    "class Decay(System):\n",
    "    x: Variable = initial(default=1)\n",
    "    eq = x.derive() << -x\n",
    "\n",
    "\n",
    "Decay"
   ]
  },
  {
   "cell_type": "markdown",
   "metadata": {},
   "source": [
    "#### Simulating a model\n",
    "\n",
    "To simulate a model,\n",
    "we create an instance of a `Simulator`:"
   ]
  },
  {
   "cell_type": "code",
   "execution_count": null,
   "metadata": {},
   "outputs": [],
   "source": [
    "from poincare import Simulator\n",
    "\n",
    "sim = Simulator(Decay)"
   ]
  },
  {
   "cell_type": "markdown",
   "metadata": {},
   "source": [
    "and call its `.solve` method:"
   ]
  },
  {
   "cell_type": "code",
   "execution_count": null,
   "metadata": {},
   "outputs": [],
   "source": [
    "import numpy as np\n",
    "\n",
    "df = sim.solve(save_at=np.linspace(0, 10, 100))\n",
    "\n",
    "df  # this is just a pandas.DataFrame"
   ]
  },
  {
   "cell_type": "markdown",
   "metadata": {},
   "source": [
    "As the output is a `pandas.DataFrame`,\n",
    "we can easily operate on it with the many packages that use `DataFrame` as inputs,\n",
    "or plot with its `plot` method:"
   ]
  },
  {
   "cell_type": "code",
   "execution_count": null,
   "metadata": {},
   "outputs": [],
   "source": [
    "df.plot()"
   ]
  },
  {
   "cell_type": "markdown",
   "metadata": {},
   "source": [
    "#### Changing initial values"
   ]
  },
  {
   "cell_type": "markdown",
   "metadata": {},
   "source": [
    "To change initial values,\n",
    "we ca pass a dictionary to its `solve` method:"
   ]
  },
  {
   "cell_type": "code",
   "execution_count": null,
   "metadata": {},
   "outputs": [],
   "source": [
    "sim.solve(\n",
    "    values={Decay.x: 2},\n",
    "    save_at=np.linspace(0, 10, 100),\n",
    ").plot()"
   ]
  },
  {
   "cell_type": "markdown",
   "metadata": {},
   "source": [
    "Note that we use the model's attribute as dictionary key,\n",
    "so the IDE's can help us with autocomplete, renaming, non-existing attributes, etc:"
   ]
  },
  {
   "cell_type": "code",
   "execution_count": null,
   "metadata": {},
   "outputs": [],
   "source": [
    "class RenameMe(System):\n",
    "    rename_me_too: Variable = initial(default=1)\n",
    "    eq = rename_me_too.derive() << -rename_me_too\n",
    "\n",
    "\n",
    "Simulator(RenameMe).solve(\n",
    "    values={RenameMe.rename_me_too: 2},\n",
    "    save_at=np.linspace(0, 1, 3),\n",
    ")"
   ]
  },
  {
   "cell_type": "markdown",
   "metadata": {},
   "source": [
    "### Example 2: second order system\n",
    "\n",
    "Harmonic oscillator: $\\frac{d^2x}{dt^2} = -x$\n",
    "\n",
    "While it may not be needed for biological simulations,\n",
    "it is needed for other fields, such as physics.\n",
    "\n",
    "We can create a `Derivative` with the `Variable.derive` method:"
   ]
  },
  {
   "cell_type": "code",
   "execution_count": null,
   "metadata": {},
   "outputs": [],
   "source": [
    "from poincare import Derivative\n",
    "\n",
    "\n",
    "class Oscillator(System):\n",
    "    x: Variable = initial(default=1)\n",
    "    v: Derivative = x.derive(initial=1)\n",
    "    eq = v.derive() << -x\n",
    "\n",
    "\n",
    "Simulator(Oscillator).solve(save_at=np.linspace(0, 10, 1000)).plot()"
   ]
  },
  {
   "cell_type": "markdown",
   "metadata": {},
   "source": [
    "#### Frequency as a parameter\n",
    "\n",
    "$\\frac{d^2x}{dt^2} = -w^2 x$\n",
    "\n",
    "We can assign a `Parameter` with the `assign` function."
   ]
  },
  {
   "cell_type": "code",
   "execution_count": null,
   "metadata": {},
   "outputs": [],
   "source": [
    "from poincare import assign, Parameter\n",
    "\n",
    "\n",
    "class Oscillator(System):\n",
    "    x: Variable = initial(default=1)\n",
    "    v: Derivative = x.derive(initial=1)\n",
    "    w: Parameter = assign(default=1) \n",
    "    eq = v.derive() << -(w**2) * x\n",
    "\n",
    "\n",
    "Simulator(Oscillator).solve(save_at=np.linspace(0, 10, 1000)).plot()"
   ]
  },
  {
   "cell_type": "markdown",
   "metadata": {},
   "source": [
    "#### Interactive widgets\n",
    "\n",
    "Using `ipywidgets` behind the scenes,\n",
    "`Simulator.interact` creates widgets to interactively change parameters and initial values:"
   ]
  },
  {
   "cell_type": "code",
   "execution_count": null,
   "metadata": {},
   "outputs": [],
   "source": [
    "Simulator(Oscillator).interact(save_at=np.linspace(0, 10, 1000))"
   ]
  },
  {
   "cell_type": "markdown",
   "metadata": {},
   "source": [
    "We can choose to create widgets for only a subset of variables:"
   ]
  },
  {
   "cell_type": "code",
   "execution_count": null,
   "metadata": {},
   "outputs": [],
   "source": [
    "Simulator(Oscillator).interact(\n",
    "    values=[Oscillator.w],\n",
    "    save_at=np.linspace(0, 10, 1000),\n",
    ")"
   ]
  },
  {
   "cell_type": "markdown",
   "metadata": {},
   "source": [
    "Or customize the range of values with `(start, stop, [step])`\n",
    "or an instance of `ipywidgets.Widget`:"
   ]
  },
  {
   "cell_type": "code",
   "execution_count": null,
   "metadata": {},
   "outputs": [],
   "source": [
    "Simulator(Oscillator).interact(\n",
    "    values={Oscillator.w: (0, 10, 0.1)},  # or ipywidgets.FloatSlider(...)\n",
    "    save_at=np.linspace(0, 10, 1000),\n",
    ")"
   ]
  },
  {
   "cell_type": "markdown",
   "metadata": {},
   "source": [
    "#### Transform\n",
    "\n",
    "Sometimes we are just interested in a subset of variables from the simulation,\n",
    "or a particular transformation.\n",
    "\n",
    "*Note:\n",
    "currently this is just implemented as a post-solve transformation,\n",
    "but it could also help to reduce the memory footprint of simulations\n",
    "(SciPy's ODE solvers do not yet support this).*"
   ]
  },
  {
   "cell_type": "markdown",
   "metadata": {},
   "source": [
    "##### To observe a subset of variables\n",
    "\n",
    "We pass a list of variables to the `Simulator`'s `transform` parameter:"
   ]
  },
  {
   "cell_type": "code",
   "execution_count": null,
   "metadata": {},
   "outputs": [],
   "source": [
    "Simulator(\n",
    "    Oscillator,\n",
    "    transform=[Oscillator.x],\n",
    ").interact(save_at=np.linspace(0, 10, 1000))"
   ]
  },
  {
   "cell_type": "markdown",
   "metadata": {},
   "source": [
    "##### To observe a calculation\n",
    "\n",
    "We can pass a symbolic expression:"
   ]
  },
  {
   "cell_type": "code",
   "execution_count": null,
   "metadata": {},
   "outputs": [],
   "source": [
    "Simulator(\n",
    "    Oscillator,\n",
    "    transform=[Oscillator.x, Oscillator.x**2],\n",
    ").interact(save_at=np.linspace(0, 10, 1000))"
   ]
  },
  {
   "cell_type": "markdown",
   "metadata": {},
   "source": [
    "##### To rename output\n",
    "\n",
    "We can pass a dictionary,\n",
    "instead of a list,\n",
    "where the keys are the new column names:"
   ]
  },
  {
   "cell_type": "code",
   "execution_count": null,
   "metadata": {},
   "outputs": [],
   "source": [
    "Simulator(\n",
    "    Oscillator,\n",
    "    transform={\n",
    "        \"x\": Oscillator.x,\n",
    "        \"Potential\": Oscillator.x**2,\n",
    "        \"Kinetic\": Oscillator.v**2 / Oscillator.w**2,\n",
    "        \"Energy\": Oscillator.x**2 + Oscillator.v**2 / Oscillator.w**2\n",
    "    },  # they are \"densities\", Energy per unit of mass\n",
    ").interact(save_at=np.linspace(0, 10, 1000))"
   ]
  },
  {
   "cell_type": "markdown",
   "metadata": {},
   "source": [
    "### Example 3: forced damped oscillator\n",
    "\n",
    "Harmonic oscillator: $\\frac{d^2x}{dt^2} = -x - b\\frac{dx}{dt} + \\cos(w t)$\n",
    "\n",
    "We have:\n",
    "- the restitutive term ($-x$)\n",
    "- damping term $- b\\frac{dx}{dt}$\n",
    "- and the forcing term $cos(w t)$\n",
    "\n",
    "This system will be in resonance for $w = 1$."
   ]
  },
  {
   "cell_type": "markdown",
   "metadata": {},
   "source": [
    "#### Independent variable\n",
    "\n",
    "We will create an independent variable (i.e., time)\n",
    "that we can use in the forcing equation.\n",
    "\n",
    "Also,\n",
    "we will use symbolic functions from `symbolite`."
   ]
  },
  {
   "cell_type": "code",
   "execution_count": null,
   "metadata": {},
   "outputs": [],
   "source": [
    "from poincare import Independent\n",
    "from symbolite import scalar as f\n",
    "\n",
    "\n",
    "class Oscillator(System):\n",
    "    t = Independent()\n",
    "\n",
    "    x: Variable = initial(default=1)\n",
    "    v: Derivative = x.derive(initial=0)\n",
    "\n",
    "    forcing_freq: Parameter = assign(default=0)\n",
    "    damping: Parameter = assign(default=0.01)\n",
    "\n",
    "    eq_restitutive = v.derive() << -x\n",
    "    eq_damping = v.derive() << -damping * v\n",
    "    eq_forced = v.derive() << f.sin(forcing_freq * t)\n",
    "\n",
    "\n",
    "Simulator(\n",
    "    Oscillator,\n",
    "    transform=[Oscillator.x],\n",
    ").interact(\n",
    "    values={\n",
    "        Oscillator.forcing_freq: (0., 1.5, 0.01),\n",
    "        Oscillator.damping: (0, 1, 0.01),\n",
    "    },\n",
    "    save_at=np.linspace(0, 200, 1000),\n",
    ")"
   ]
  },
  {
   "cell_type": "markdown",
   "metadata": {},
   "source": [
    "### Example 4: composing models\n",
    "\n",
    "We can create instances of other models to compose them into bigger ones.\n",
    "\n",
    "(that's why we've been adding type annotations:\n",
    "it generates the signature automatically)\n",
    "\n",
    "Here we create two instances of the same `Decay` model\n",
    "with different `decay_rate`s."
   ]
  },
  {
   "cell_type": "code",
   "execution_count": null,
   "metadata": {},
   "outputs": [],
   "source": [
    "class Decay(System):\n",
    "    x: Variable = initial(default=1)\n",
    "    decay_rate: Parameter = assign(default=1)\n",
    "    eq = x.derive() << -decay_rate * x\n",
    "\n",
    "\n",
    "class BigModel(System):\n",
    "    decay_1 = Decay(decay_rate=1)\n",
    "    decay_2 = Decay(decay_rate=2)\n",
    "\n",
    "\n",
    "Simulator(BigModel).solve(save_at=np.linspace(0, 5, 1000)).plot()"
   ]
  },
  {
   "cell_type": "markdown",
   "metadata": {},
   "source": [
    "There is an inner variables created in each model.\n",
    "\n",
    "But we can also \"link\" those variables to an existing one,\n",
    "instead of creating new ones:"
   ]
  },
  {
   "cell_type": "code",
   "execution_count": null,
   "metadata": {},
   "outputs": [],
   "source": [
    "class BigModel(System):\n",
    "    x: Variable = initial(default=1)\n",
    "    decay_1 = Decay(x=x, decay_rate=1)\n",
    "    decay_2 = Decay(x=x, decay_rate=2)\n",
    "\n",
    "\n",
    "Simulator(BigModel).solve(save_at=np.linspace(0, 5, 1000)).plot()"
   ]
  },
  {
   "cell_type": "markdown",
   "metadata": {},
   "source": [
    "### Example 5: Units\n",
    "\n",
    "Last, but not least,\n",
    "`poincaré` supports units out of the box using the `pint` package."
   ]
  },
  {
   "cell_type": "code",
   "execution_count": null,
   "metadata": {},
   "outputs": [],
   "source": [
    "import pint\n",
    "\n",
    "u = pint.get_application_registry()\n",
    "\n",
    "\n",
    "class Model(System):\n",
    "    x: Variable = initial(default=1 * u.m)\n",
    "    tau: Parameter = assign(default=1 * u.s)\n",
    "\n",
    "    eq = x.derive() << x / tau  # try removing \"/ tag\""
   ]
  },
  {
   "cell_type": "markdown",
   "metadata": {},
   "source": [
    "## simbio"
   ]
  },
  {
   "cell_type": "markdown",
   "metadata": {},
   "source": [
    "simbio adds on top of poincaré:\n",
    "\n",
    "- `Species`, which is a `Variable` with a stoichiometry,\n",
    "- `Reaction`, which generates the equations taking into account the stoichiometry\n",
    "- `MassAction`, a particular type of reaction\n",
    "- several predefined reactions based on `MassAction` (`Creation`, etc)\n",
    "- (not yet implmenented) a `Volume` variable"
   ]
  },
  {
   "cell_type": "markdown",
   "metadata": {},
   "source": [
    "### Compartment and Reactions\n",
    "\n",
    "In simbio,\n",
    "instead of creating a `System`,\n",
    "we create a `Compartment`:"
   ]
  },
  {
   "cell_type": "code",
   "execution_count": null,
   "metadata": {},
   "outputs": [],
   "source": [
    "from simbio import Species, Reaction, Compartment, initial, Simulator\n",
    "\n",
    "\n",
    "class Model(Compartment):\n",
    "    A: Species = initial(default=1)\n",
    "    B: Species = initial(default=0)\n",
    "    r = Reaction(reactants=[A], products=[B], rate_law=1)\n",
    "\n",
    "\n",
    "Simulator(Model).solve(save_at=np.linspace(0, 1, 100)).plot()"
   ]
  },
  {
   "cell_type": "markdown",
   "metadata": {},
   "source": [
    "### MassAction reaction\n",
    "\n",
    "If we use `MassAction`,\n",
    "it adds all reactants (with their stoichiometric exponents) to the `rate_law`:"
   ]
  },
  {
   "cell_type": "code",
   "execution_count": null,
   "metadata": {},
   "outputs": [],
   "source": [
    "from simbio import MassAction\n",
    "\n",
    "\n",
    "class Model(Compartment):\n",
    "    A: Species = initial(default=1)\n",
    "    B: Species = initial(default=0)\n",
    "    r = MassAction(reactants=[A], products=[B], rate=1)\n",
    "    # r = Reaction(reactants=[A], products=[B], rate=1 * A)\n",
    "\n",
    "\n",
    "Simulator(Model).solve(save_at=np.linspace(0, 10, 100)).plot()"
   ]
  },
  {
   "cell_type": "markdown",
   "metadata": {},
   "source": [
    "### Reactions with stoichiometries\n",
    "\n",
    "To define a reaction with different stoichiometries,\n",
    "just multiply the corresponding species by the stoichiometric factor:"
   ]
  },
  {
   "cell_type": "code",
   "execution_count": null,
   "metadata": {},
   "outputs": [],
   "source": [
    "class Model(Compartment):\n",
    "    A: Species = initial(default=1)\n",
    "    B: Species = initial(default=0)\n",
    "    r = MassAction(reactants=[2 * A], products=[B], rate=1)\n",
    "\n",
    "\n",
    "Simulator(Model).solve(save_at=np.linspace(0, 10, 100)).plot()"
   ]
  },
  {
   "cell_type": "markdown",
   "metadata": {},
   "source": [
    "### Predefined reactions\n",
    "\n",
    "In the `simbio.reactions`,\n",
    "we included several commoon reactions,\n",
    "which simplify reading a model.\n",
    "\n",
    "For instance,\n",
    "for a Michaelis-Menten reaction:\n",
    "`E + S <-> ES -> P + E`\n",
    "we can write:"
   ]
  },
  {
   "cell_type": "code",
   "execution_count": null,
   "metadata": {},
   "outputs": [],
   "source": [
    "from simbio import reactions\n",
    "\n",
    "\n",
    "class Model(Compartment):\n",
    "    A: Species = initial(default=1)\n",
    "    B: Species = initial(default=0)\n",
    "    r = reactions.MichaelisMenten(\n",
    "        S=A,\n",
    "        P=B,\n",
    "        E=1,  # initial condition for internal variable\n",
    "        ES=0,\n",
    "        forward_rate=1,\n",
    "        reverse_rate=0.2,\n",
    "        catalytic_rate=0.1,\n",
    "    )\n",
    "\n",
    "\n",
    "Simulator(Model).solve(save_at=np.linspace(0, 100, 100)).plot()"
   ]
  },
  {
   "cell_type": "markdown",
   "metadata": {},
   "source": [
    "### BioModels and SBML\n",
    "\n",
    "In the `simbio.io.sbml` module,\n",
    "we include an `SBML` importer.\n",
    "\n",
    "We also include a BioModels importer,\n",
    "which downloads (and caches) the model from the BioModels\n",
    "and then imports the SBML file."
   ]
  },
  {
   "cell_type": "code",
   "execution_count": null,
   "metadata": {},
   "outputs": [],
   "source": [
    "from simbio.io import biomodels\n",
    "\n",
    "model = biomodels.load_model(\"MODEL2105210001\")"
   ]
  },
  {
   "cell_type": "code",
   "execution_count": null,
   "metadata": {},
   "outputs": [],
   "source": [
    "model"
   ]
  },
  {
   "cell_type": "code",
   "execution_count": null,
   "metadata": {},
   "outputs": [],
   "source": [
    "sim = Simulator(model)\n",
    "\n",
    "sim.solve(save_at=np.linspace(0, 30e3, 1000)).plot(legend=False)"
   ]
  },
  {
   "cell_type": "markdown",
   "metadata": {},
   "source": [
    "### Faster solve by switching backends\n",
    "\n",
    "By default, `poincare` (hence `simbio`) use `NumPy` as the default backend.\n",
    "\n",
    "But it supports different backends:\n",
    "\n",
    "- NumPy\n",
    "- Numba\n",
    "- JAX\n",
    "\n",
    "And it should be easy to add new ones.\n",
    "\n",
    "Switching to the `numba` backend,\n",
    "reduces the simulation speed considerably:"
   ]
  },
  {
   "cell_type": "code",
   "execution_count": null,
   "metadata": {},
   "outputs": [],
   "source": [
    "sim = Simulator(model)\n",
    "\n",
    "%timeit -n1 -r1 sim.solve(save_at=np.linspace(0, 30e3, 1000))\n",
    "numpy_time = %timeit -n1 -r1 -o sim.solve(save_at=np.linspace(0, 30e3, 1000))\n",
    "None"
   ]
  },
  {
   "cell_type": "code",
   "execution_count": null,
   "metadata": {},
   "outputs": [],
   "source": [
    "sim = Simulator(model, backend=\"numba\")\n",
    "\n",
    "numba_compile_time = %timeit -n1 -r1 -o sim.solve(save_at=np.linspace(0, 30e3, 1000))\n",
    "numba_run_time = %timeit -n1 -r1 -o sim.solve(save_at=np.linspace(0, 30e3, 1000))\n",
    "None"
   ]
  },
  {
   "cell_type": "code",
   "execution_count": null,
   "metadata": {},
   "outputs": [],
   "source": [
    "print(f\"Speed up: {numpy_time.best / numba_run_time.best:.0f}x\")\n",
    "print(f\"Need at least {numba_compile_time.best / numpy_time.best:.1f} runs\")"
   ]
  },
  {
   "cell_type": "markdown",
   "metadata": {},
   "source": [
    "### Changing solvers\n",
    "\n",
    "The default solver is LSODA,\n",
    "which works well in most situations,\n",
    "but all `SciPy` solvers are available in the `solver` module:"
   ]
  },
  {
   "cell_type": "code",
   "execution_count": null,
   "metadata": {},
   "outputs": [],
   "source": [
    "from poincare import solvers\n",
    "\n",
    "sim.solve(\n",
    "    save_at=np.linspace(0, 30e3, 1000),\n",
    "    solver=solvers.RK45(),\n",
    ").plot(legend=False)"
   ]
  },
  {
   "cell_type": "markdown",
   "metadata": {},
   "source": [
    "As RK45 is not suitable for stiff equations,\n",
    "it takes a much longer time to solve."
   ]
  }
 ],
 "metadata": {
  "kernelspec": {
   "display_name": "Python 3 (ipykernel)",
   "language": "python",
   "name": "python3"
  },
  "language_info": {
   "codemirror_mode": {
    "name": "ipython",
    "version": 3
   },
   "file_extension": ".py",
   "mimetype": "text/x-python",
   "name": "python",
   "nbconvert_exporter": "python",
   "pygments_lexer": "ipython3",
   "version": "3.10.12"
  }
 },
 "nbformat": 4,
 "nbformat_minor": 4
}
